{
 "cells": [
  {
   "cell_type": "code",
   "execution_count": 1,
   "metadata": {},
   "outputs": [],
   "source": [
    "import xarray as xr\n",
    "import numpy as np\n",
    "import os\n",
    "import matplotlib.pyplot as plt\n",
    "import pandas as pd\n",
    "\n",
    "#K34: lat -2.6, lon -60.2"
   ]
  },
  {
   "cell_type": "code",
   "execution_count": 3,
   "metadata": {
    "collapsed": true,
    "jupyter": {
     "outputs_hidden": true
    }
   },
   "outputs": [
    {
     "name": "stderr",
     "output_type": "stream",
     "text": [
      "/global/homes/l/linmeng/.conda/envs/myenv/lib/python3.8/site-packages/xarray/conventions.py:490: SerializationWarning: variable 'ta' has multiple fill values {1e+20, 1e+20}, decoding all values to NaN.\n",
      "  new_vars[k] = decode_cf_variable(\n"
     ]
    }
   ],
   "source": [
    "#historical\n",
    "ta_var = xr.open_mfdataset('historical/ta/ta_6hr*.nc', combine='by_coords').isel(lev=0,lat= slice(-2.7,-2),lon= slice (300,301)).ta.to_series()\n",
    "#ta_var_surf.ta.sel(time='1850-01-01').mean(dim='time').plot()   #Spatial plot of ta at 1850\n",
    "#SSP 370\n",
    "ta_ssp = xr.open_mfdataset('ssp370/ta/ta_6hr*.nc', combine='by_coords').isel(lev=0).ta.sel(lat= slice(-2.7,-2),lon= slice (300,301)).to_series() \n",
    "ta_all = pd.concat([ta_var,ta_ssp])\n",
    "#ta_all.plot(x='time',y='ta',figsize=(12, 6))"
   ]
  },
  {
   "cell_type": "code",
   "execution_count": null,
   "metadata": {},
   "outputs": [
    {
     "name": "stderr",
     "output_type": "stream",
     "text": [
      "/global/homes/l/linmeng/.conda/envs/myenv/lib/python3.8/site-packages/xarray/conventions.py:490: SerializationWarning: variable 'ta' has multiple fill values {1e+20, 1e+20}, decoding all values to NaN.\n",
      "  new_vars[k] = decode_cf_variable(\n"
     ]
    }
   ],
   "source": [
    "#SSP\n",
    "#10.2.2020\n",
    "\n",
    "ssp='ssp585'    \n",
    "ta_ssp = xr.open_mfdataset(ssp + '/ta/ta_6hr*.nc', combine='by_coords').isel(lev=0).ta.sel(lat= slice(-2.7,-2),lon= slice (300,301)).to_series() \n",
    "hus_ssp = xr.open_mfdataset(ssp + '/hus/hus_6hr*.nc', combine='by_coords').isel(lev=0).hus.sel(lat= slice(-2.7,-2),lon= slice (300,301)).to_series() \n",
    "ps_ssp = xr.open_mfdataset(ssp + '/ps/ps_6hr*.nc', combine='by_coords').ps.sel(lat= slice(-2.7,-2),lon= slice (300,301)).to_series() \n",
    "all_ssp = pd.concat([ta_ssp, hus_ssp,ps_ssp], axis=1)\n",
    "all_ssp['Ta'] = all_ssp['ta'] - 273.15\n",
    "\n",
    "#calculate rh and vpd\n",
    "all_ssp['RH'] =100 * (all_ssp['hus'] * all_ssp['ps']/1000) /(0.622 * (0.611 * np.exp(17.26938818 * (all_ssp['Ta'] / (237.3 + all_ssp['Ta'])))))\n",
    "all_ssp['VPD'] =(6.11 * np.exp(17.26938818 * (all_ssp['Ta'] / (237.3 + all_ssp['Ta'])))) * (1 - (all_ssp['RH'] / 100.0))\n",
    "#all_ssp.to_csv(ssp +'_allvariable.csv',index='False')\n"
   ]
  },
  {
   "cell_type": "code",
   "execution_count": 5,
   "metadata": {},
   "outputs": [],
   "source": [
    "\n"
   ]
  },
  {
   "cell_type": "code",
   "execution_count": 12,
   "metadata": {
    "collapsed": true,
    "jupyter": {
     "outputs_hidden": true
    }
   },
   "outputs": [
    {
     "name": "stderr",
     "output_type": "stream",
     "text": [
      "/global/homes/l/linmeng/.conda/envs/myenv/lib/python3.8/site-packages/xarray/conventions.py:490: SerializationWarning: variable 'pr' has multiple fill values {1e+20, 1e+20}, decoding all values to NaN.\n",
      "  new_vars[k] = decode_cf_variable(\n"
     ]
    },
    {
     "data": {
      "text/plain": [
       "time                 lat        lon  \n",
       "2000-01-01 00:00:00  -2.356021  300.0    0.000164\n",
       "2000-01-02 00:00:00  -2.356021  300.0    0.000018\n",
       "2000-01-03 00:00:00  -2.356021  300.0    0.000246\n",
       "2000-01-04 00:00:00  -2.356021  300.0    0.000391\n",
       "2000-01-05 00:00:00  -2.356021  300.0    0.000054\n",
       "                                           ...   \n",
       "2100-12-28 00:00:00  -2.356021  300.0    0.000088\n",
       "2100-12-29 00:00:00  -2.356021  300.0    0.000178\n",
       "2100-12-30 00:00:00  -2.356021  300.0    0.000152\n",
       "2100-12-31 00:00:00  -2.356021  300.0    0.000058\n",
       "2101-01-01 00:00:00  -2.356021  300.0    0.000064\n",
       "Name: pr, Length: 36867, dtype: float32"
      ]
     },
     "execution_count": 12,
     "metadata": {},
     "output_type": "execute_result"
    }
   ],
   "source": [
    "#other variables\n",
    "prec_var = xr.open_mfdataset('/global/cscratch1/sd/linmeng/CESM2_prec/pr_day_CESM2*.nc', combine='by_coords').sel(lat= slice(-2.7,-2),lon= slice (300,301)).pr.to_series()\n",
    "prec_var.to_csv('precip.csv',index='False')\n",
    "sm_var = xr.open_mfdataset('historical/mrsos/mrsos_3hr_CESM2_historical_r11i1p1f1_gn_200001010000-201501010000.nc').sel(lat= slice(-2.7,-2),lon= slice (300,301)).mrsos.to_series()\n",
    "sm_var.to_csv('mrsos.csv',index='False')"
   ]
  },
  {
   "cell_type": "code",
   "execution_count": 17,
   "metadata": {
    "collapsed": true,
    "jupyter": {
     "outputs_hidden": true
    }
   },
   "outputs": [
    {
     "name": "stderr",
     "output_type": "stream",
     "text": [
      "/global/homes/l/linmeng/.conda/envs/myenv/lib/python3.8/site-packages/xarray/conventions.py:490: SerializationWarning: variable 'ps' has multiple fill values {1e+20, 1e+20}, decoding all values to NaN.\n",
      "  new_vars[k] = decode_cf_variable(\n",
      "/global/homes/l/linmeng/.conda/envs/myenv/lib/python3.8/site-packages/xarray/conventions.py:490: SerializationWarning: variable 'ps' has multiple fill values {1e+20, 1e+20}, decoding all values to NaN.\n",
      "  new_vars[k] = decode_cf_variable(\n",
      "/global/homes/l/linmeng/.conda/envs/myenv/lib/python3.8/site-packages/xarray/conventions.py:490: SerializationWarning: variable 'hus' has multiple fill values {1e+20, 1e+20}, decoding all values to NaN.\n",
      "  new_vars[k] = decode_cf_variable(\n"
     ]
    }
   ],
   "source": [
    "ps_var = xr.open_mfdataset('historical/ps/ps_6hr*.nc', combine='by_coords').ps.sel(lat= slice(-2.7,-2),lon= slice (300,301)).to_series() \n",
    "ps_ssp = xr.open_mfdataset('ssp370/ps/ps_6hr*.nc', combine='by_coords').ps.sel(lat= slice(-2.7,-2),lon= slice (300,301)).to_series() \n",
    "ps_all = pd.concat([ps_var,ps_ssp])\n",
    "pd.concat([ta_all,ps_all],axis=1).to_csv('hist_ssp_ps_ta.csv',index='False')"
   ]
  },
  {
   "cell_type": "code",
   "execution_count": 24,
   "metadata": {
    "collapsed": true,
    "jupyter": {
     "outputs_hidden": true
    }
   },
   "outputs": [
    {
     "name": "stderr",
     "output_type": "stream",
     "text": [
      "/global/homes/l/linmeng/.conda/envs/myenv/lib/python3.8/site-packages/xarray/conventions.py:490: SerializationWarning: variable 'hus' has multiple fill values {1e+20, 1e+20}, decoding all values to NaN.\n",
      "  new_vars[k] = decode_cf_variable(\n"
     ]
    }
   ],
   "source": [
    "hus_var1 = xr.open_mfdataset('historical/hus/hus_6hrLev_CESM2_historical_r11i1p1f1_gn_198001010000-198912311800.nc').isel(lev=31).hus.sel(lat= slice(-2.7,-2),lon= slice (300,301)).to_series()\n",
    "hus_var2 = xr.open_mfdataset('historical/hus/hus_6hrLev_CESM2_historical_r11i1p1f1_gn_199001010000-199912311800.nc').isel(lev=31).hus.sel(lat= slice(-2.7,-2),lon= slice (300,301)).to_series()\n",
    "\n",
    "hus_var = xr.open_mfdataset('historical/hus/hus_6hrLev_CESM2_historical_r11i1p1f1_gn_20*.nc', combine='by_coords').isel(lev=31).hus.sel(lat= slice(-2.7,-2),lon= slice (300,301)).to_series()\n",
    "hus_ssp = xr.open_mfdataset('ssp370/hus/hus_6hr*.nc', combine='by_coords').isel(lev=0).hus.sel(lat= slice(-2.7,-2),lon= slice (300,301)).to_series() \n",
    "hus_all = pd.concat([hus_var1,hus_var2,hus_var,hus_ssp])"
   ]
  },
  {
   "cell_type": "code",
   "execution_count": 33,
   "metadata": {},
   "outputs": [],
   "source": [
    "hus_all.to_csv('hist_ssp_hus.csv',index='False')"
   ]
  }
 ],
 "metadata": {
  "kernelspec": {
   "display_name": "Python 3 (ipykernel)",
   "language": "python",
   "name": "python3"
  },
  "language_info": {
   "codemirror_mode": {
    "name": "ipython",
    "version": 3
   },
   "file_extension": ".py",
   "mimetype": "text/x-python",
   "name": "python",
   "nbconvert_exporter": "python",
   "pygments_lexer": "ipython3",
   "version": "3.9.12"
  }
 },
 "nbformat": 4,
 "nbformat_minor": 4
}
